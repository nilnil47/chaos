{
 "cells": [
  {
   "cell_type": "code",
   "execution_count": null,
   "metadata": {},
   "outputs": [],
   "source": [
    "import pandas as pd\n",
    "import numpy as np\n",
    "import matplotlib.pyplot as plt\n",
    "import hvplot.pandas\n",
    "import plotly.express as px\n",
    "import scipy.signal as signal\n",
    "import plotly.graph_objs as go\n",
    "import plotly.figure_factory as ff\n",
    "from plotly.offline import plot, iplot, init_notebook_mode\n",
    "from plotly.subplots import make_subplots\n",
    "import sys\n"
   ]
  },
  {
   "cell_type": "code",
   "execution_count": null,
   "metadata": {},
   "outputs": [],
   "source": [
    "def load_csv(name):\n",
    "    return pd.read_csv(name, header=None, usecols=[3, 4, 10], names=['t', 'vd', 'vt'],float_precision='round_trip')\n",
    "\n",
    "R = 10"
   ]
  },
  {
   "attachments": {},
   "cell_type": "markdown",
   "metadata": {},
   "source": [
    "## part 1"
   ]
  },
  {
   "cell_type": "code",
   "execution_count": null,
   "metadata": {},
   "outputs": [],
   "source": [
    "df = load_csv('3.csv')\n",
    "df['I'] = (df['vt'] - df['vd']) / R \n",
    "\n",
    "# df = df[-1.8e-4 < df['t']][df['t'] < -4e-5]\n",
    "# df = df[-0.00011 < df['t']][df['t'] < -4e-5]\n",
    "df = df[-1.75e-4 < df['t']][df['t'] < -0.00011]\n",
    "\n",
    "# df.to_picl('3.pkl')\n",
    "# df = pd.read_pickle('3.pkl')\n",
    "\n",
    "\n",
    "plt.figure()\n",
    "plt.plot(df['t'], df['vd'])\n",
    "plt.figure()\n",
    "plt.plot(-df['I'], -df['vd'])"
   ]
  },
  {
   "cell_type": "code",
   "execution_count": null,
   "metadata": {},
   "outputs": [],
   "source": [
    "plt.plot(-df['I'], -df['vd'])\n",
    "plt.xlabel('I [mA]')\n",
    "plt.ylabel('vd [V]')\n",
    "plt.savefig('destination_path.eps', format='eps')"
   ]
  },
  {
   "cell_type": "code",
   "execution_count": null,
   "metadata": {},
   "outputs": [],
   "source": [
    "from scipy.signal import savgol_filter\n",
    "y = -savgol_filter(df['vd'], 51, 3) # window size 51, polynomial order 3\n",
    "x = -savgol_filter(df['I'], 51, 3)\n",
    "plt.plot(x, y)\n",
    "df2 = pd.DataFrame({'x': x, 'y': y})\n",
    "df2.to_csv('filtered.csv', index=False)"
   ]
  },
  {
   "cell_type": "code",
   "execution_count": null,
   "metadata": {},
   "outputs": [],
   "source": [
    "import numpy as np\n",
    "import matplotlib.pyplot as plt\n",
    "from scipy.optimize import curve_fit\n",
    "\n",
    "# define the exponential function to fit\n",
    "def func(x, a, b, c):\n",
    "    return a * np.exp(-b * x) + c\n",
    "\n",
    "\n",
    "# fit the data to the function\n",
    "popt, pcov = curve_fit(func, x, y)\n",
    "\n",
    "# plot the data and fitted curve\n",
    "plt.plot(x, y, 'o', label='data')\n",
    "plt.plot(x, func(y, *popt), '-', label='fit')\n",
    "plt.legend()\n",
    "plt.show()\n"
   ]
  },
  {
   "cell_type": "code",
   "execution_count": null,
   "metadata": {},
   "outputs": [],
   "source": [
    "df.hvplot.scatter(x='t', y='vd', width=800, height=400)"
   ]
  },
  {
   "cell_type": "code",
   "execution_count": null,
   "metadata": {},
   "outputs": [],
   "source": [
    "df.hvplot.scatter(x='t', y=['vd', 'vt'], width=800, height=400)"
   ]
  },
  {
   "cell_type": "code",
   "execution_count": null,
   "metadata": {},
   "outputs": [],
   "source": [
    "df = df[-1.8e-4 < df['t']][df['t'] < -4e-5]\n",
    "df.to_pickle('3.pkl')"
   ]
  },
  {
   "cell_type": "code",
   "execution_count": null,
   "metadata": {},
   "outputs": [],
   "source": [
    "df.hvplot.scatter(x='t', y=['vd', 'vt'], width=800, height=400)\n",
    "df['I'] = df['vt'] - df['vd'] / R "
   ]
  },
  {
   "cell_type": "code",
   "execution_count": null,
   "metadata": {},
   "outputs": [],
   "source": [
    "df.hvplot.scatter(x='I', y='vd', width=800, height=400)"
   ]
  },
  {
   "cell_type": "markdown",
   "metadata": {},
   "source": [
    "## part 2 "
   ]
  },
  {
   "cell_type": "code",
   "execution_count": null,
   "metadata": {},
   "outputs": [],
   "source": [
    "L = 102e-3 # henrry\n",
    "C = 56.6e-9# farad\n",
    "resonance = 1 / np.sqrt(L * C) # 13kHz\n",
    "zmeasurment_freq = 27.1e3 # 27.1kHz"
   ]
  },
  {
   "cell_type": "code",
   "execution_count": null,
   "metadata": {},
   "outputs": [],
   "source": [
    "def filter_data(x, y):\n",
    "    d = np.abs(np.roll(y, -1) - y)\n",
    "    indexes =  np.logical_not(np.logical_and(d > 0.05, d < 0.7))\n",
    "    return x[indexes], y[indexes]\n",
    "\n",
    "df = load_csv('37.4.csv')\n",
    "df['vt'] = df['vt'].shift(79)\n",
    "# df = df[20000:40000]\n",
    "df = df[:600000]\n",
    "n = int(0)\n",
    "sdf = df[0:n+20000]\n",
    "# sdf = df\n",
    "sdf.reset_index(drop=True, inplace=True)\n",
    "plt.plot(sdf['vd'])\n",
    "# px.scatter(sdf, x='t', y='vd')\n",
    "peaks = signal.find_peaks(-1*sdf['vd'], height=0, width = 100, rel_height=1, prominence=1)\n",
    "plt.plot(peaks[0], -1*peaks[1]['peak_heights'], '.')\n",
    "# plt.plot(peaks[0], peaks[1]['prominences'], '.')\n",
    "# plt.plot(sdf['vt'])\n",
    "# p = -1*peaks[1]['peak_heights']\n",
    "# d = np.abs(np.roll(p, -1) - p)\n",
    "# indexes =  np.logical_not(np.logical_and(d > 0.05, d < 0.7))\n",
    "# indexes =  (np.logical_and(d > 0.05, d < 0.7))\n",
    "# plt.plot(peaks[0][indexes], -peaks[1]['peak_heights'][indexes], '.')\n",
    "# plt.plot(peaks[0][indexes], d[indexes], '.')"
   ]
  },
  {
   "cell_type": "code",
   "execution_count": null,
   "metadata": {},
   "outputs": [],
   "source": [
    "df = load_csv('37.4.csv')\n",
    "df = df[:600000]\n",
    "vmin = 1.6\n",
    "vmax = 9\n",
    "def f(n):    \n",
    "    return (vmax-vmin)/600000 * n+ vmin\n",
    "\n",
    "df['vt'] = df['vt'].shift(79)\n",
    "df['v'] = df.index.map(f)\n",
    "# df = df[:10000]\n",
    "peaks = signal.find_peaks(-1*df['vd'], height=0,width = 10, rel_height=1)\n",
    "indexces, p = filter_data(peaks[0], -1*peaks[1]['peak_heights'])\n",
    "# indexces = peaks[0]\n",
    "print(indexces)\n",
    "pdf = df.iloc[indexces]\n",
    "# plt.plot()\n",
    "plt.plot(pdf['vt'], pdf['vd'], '.') \n",
    "# plt.plot(len(pdf['vd']) * [-1], pdf['vd'], '.')\n",
    "# plt.plot(peaks[0], peaks[1]['peak_heights'], '.')\n"
   ]
  },
  {
   "cell_type": "code",
   "execution_count": null,
   "metadata": {},
   "outputs": [],
   "source": [
    "f = open('a.txt', 'w')\n",
    "# f = sys.stdout\n",
    "voltages = []\n",
    "means = []\n",
    "for transmited_voltage in pdf['vt'].unique():\n",
    "    print(transmited_voltage, file=f)\n",
    "    vals = pdf[pdf['vt'] == transmited_voltage]['vd'].to_numpy()\n",
    "    vals = np.sort(vals)\n",
    "    # print(vals, file=f)\n",
    "\n",
    "    #\n",
    "    d = np.abs(np.roll(vals, -1) - vals)\n",
    "    d[-1] = 0\n",
    "\n",
    "    filter_ = d > 0.3\n",
    "    indexes = np.arange(len(filter_))[filter_] + 1\n",
    "    groups = np.split(vals, indexes)\n",
    "\n",
    "    for g in groups:\n",
    "        if np.abs(np.max(g) - np.mean(g)) > 0.5:\n",
    "            print('vals', vals, file=f)\n",
    "            print('indexes', indexes, file=f)\n",
    "            print('g', g, file=f)\n",
    "\n",
    "        means.append(-np.mean(g))\n",
    "        voltages.append(-transmited_voltage)\n",
    "        # print(g, file=f)\n",
    "        # print(np.mean(g), file=f)\n",
    "    \n",
    "    \n",
    "\n",
    "\n",
    "plt.plot(voltages, means, '.')\n",
    "plt.figure()\n",
    "plt.plot(pdf['vt'], pdf['vd'], '.') \n",
    "\n",
    "    "
   ]
  },
  {
   "cell_type": "code",
   "execution_count": null,
   "metadata": {},
   "outputs": [],
   "source": []
  },
  {
   "cell_type": "code",
   "execution_count": null,
   "metadata": {},
   "outputs": [],
   "source": [
    "indexces.size, peaks[0].size"
   ]
  },
  {
   "cell_type": "code",
   "execution_count": null,
   "metadata": {},
   "outputs": [],
   "source": [
    "peaks[1]"
   ]
  },
  {
   "attachments": {},
   "cell_type": "markdown",
   "metadata": {},
   "source": [
    "peaks['prominences']"
   ]
  },
  {
   "cell_type": "code",
   "execution_count": null,
   "metadata": {},
   "outputs": [],
   "source": [
    "pdf['vd'].unique()"
   ]
  },
  {
   "cell_type": "code",
   "execution_count": null,
   "metadata": {},
   "outputs": [],
   "source": [
    "df = load_csv('37.4.csv')\n",
    "df['vt'] = df['vt'].shift(105)\n",
    "peaks = signal.find_peaks(-1*df['vd'], height=0,width = 10, rel_height=1)\n",
    "pdf = df.iloc[peaks[0]]\n",
    "plt.plot(pdf['v'], pdf['vd'], '.') "
   ]
  },
  {
   "cell_type": "code",
   "execution_count": null,
   "metadata": {},
   "outputs": [],
   "source": [
    "peaks = signal.find_peaks(sdf['vd'], height=0.5, distance=1000)\n",
    "peaks"
   ]
  },
  {
   "cell_type": "code",
   "execution_count": null,
   "metadata": {},
   "outputs": [],
   "source": [
    "trace1 = go.Bar(\n",
    "    x=sdf['t'],\n",
    "    y=sdf['vd'],\n",
    "    # name='points',\n",
    "    # marker=dict(\n",
    "    #     color='rgb(255,163,192)'\n",
    "    #            )\n",
    ")\n",
    "trace2 = go.Scatter(\n",
    "    x=peaks[0],\n",
    "    y=peaks[1]['peak_heights'],\n",
    "    name='peaks',\n",
    "    # yaxis='y2',\n",
    "\n",
    ")\n",
    "\n",
    "fig = make_subplots(specs=[[{\"secondary_y\": True}]])\n",
    "fig.add_trace(trace1)\n",
    "# fig.add_trace(trace2,secondary_y=True)\n",
    "fig['layout'].update(height = 600, width = 800,xaxis=dict(\n",
    "      tickangle=-90\n",
    "    ))\n",
    "iplot(fig)\n"
   ]
  },
  {
   "cell_type": "code",
   "execution_count": null,
   "metadata": {},
   "outputs": [],
   "source": [
    "import plotly.graph_objects as go\n",
    "from plotly.subplots import make_subplots\n",
    "\n",
    "trace1 = go.Bar(\n",
    "    x=df[cat],\n",
    "    y=df[num],\n",
    "    name=num,\n",
    "    marker=dict(\n",
    "        color='rgb(34,163,192)'\n",
    "               )\n",
    ")\n",
    "trace2 = go.Scatter(\n",
    "    x=df[cat],\n",
    "    y=df['cumulative_perc'],\n",
    "    name='Cumulative Percentage',\n",
    "    yaxis='y2'\n",
    "\n",
    ")\n",
    "\n",
    "fig = make_subplots(specs=[[{\"secondary_y\": True}]])\n",
    "fig.add_trace(trace1)\n",
    "fig.add_trace(trace2,secondary_y=True)\n",
    "fig['layout'].update(height = 600, width = 800, title = title,xaxis=dict(\n",
    "      tickangle=-90\n",
    "    ))\n",
    "iplot(fig)\n"
   ]
  },
  {
   "cell_type": "code",
   "execution_count": null,
   "metadata": {},
   "outputs": [],
   "source": [
    "peaks[0]\n",
    "peaks[1]['peak_heights']"
   ]
  },
  {
   "cell_type": "code",
   "execution_count": null,
   "metadata": {},
   "outputs": [],
   "source": [
    "import altair as alt\n",
    "from altair.expr import datum\n",
    "\n",
    "base = alt.Chart(sdf).encode(\n",
    "    x='t',\n",
    "    y='vd',\n",
    "    color='symbol:N'\n",
    ").transform_filter(\n",
    "    datum.symbol == 'GOOG'\n",
    ")\n",
    "\n",
    "base.mark_line() + base.mark_point()\n"
   ]
  },
  {
   "cell_type": "code",
   "execution_count": null,
   "metadata": {},
   "outputs": [],
   "source": [
    "plt.plot(df['vd'])"
   ]
  },
  {
   "cell_type": "code",
   "execution_count": null,
   "metadata": {},
   "outputs": [],
   "source": [
    "df = load_csv('37.4.csv')\n",
    "df = df[:600000]\n",
    "vmin = df[:100]['vt'].max()\n",
    "vmax = df[-100:]['vt'].max()\n",
    "vmin\n",
    "vmax\n",
    "def f(n):    \n",
    "    return (vmax-vmin)/600000 * n+ vmin\n",
    "plt.plot(df['vt'])\n",
    "plt.plot(range(600000), [f(n) for n in range(600000)])\n",
    "# print(vmin, vmax)\n"
   ]
  }
 ],
 "metadata": {
  "kernelspec": {
   "display_name": "Python 3",
   "language": "python",
   "name": "python3"
  },
  "language_info": {
   "codemirror_mode": {
    "name": "ipython",
    "version": 3
   },
   "file_extension": ".py",
   "mimetype": "text/x-python",
   "name": "python",
   "nbconvert_exporter": "python",
   "pygments_lexer": "ipython3",
   "version": "3.11.2"
  },
  "orig_nbformat": 4
 },
 "nbformat": 4,
 "nbformat_minor": 2
}
