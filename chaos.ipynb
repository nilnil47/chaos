{
 "cells": [
  {
   "cell_type": "code",
   "execution_count": null,
   "metadata": {},
   "outputs": [],
   "source": [
    "import pandas as pd\n",
    "import numpy as np\n",
    "import matplotlib.pyplot as plt\n",
    "import hvplot.pandas\n",
    "import plotly.express as px\n",
    "import scipy.signal as signal"
   ]
  },
  {
   "cell_type": "code",
   "execution_count": null,
   "metadata": {},
   "outputs": [],
   "source": [
    "def load_csv(name):\n",
    "    return pd.read_csv(name, header=None, usecols=[3, 4, 10], names=['t', 'vd', 'vt'],float_precision='round_trip')\n",
    "\n",
    "R = 10"
   ]
  },
  {
   "cell_type": "code",
   "execution_count": null,
   "metadata": {},
   "outputs": [],
   "source": [
    "(-1.8e-4-4e-5)/2"
   ]
  },
  {
   "attachments": {},
   "cell_type": "markdown",
   "metadata": {},
   "source": [
    "## part 1"
   ]
  },
  {
   "cell_type": "code",
   "execution_count": null,
   "metadata": {},
   "outputs": [],
   "source": [
    "df = load_csv('3.csv')\n",
    "df['I'] = (df['vt'] - df['vd']) / R \n",
    "\n",
    "# df = df[-1.8e-4 < df['t']][df['t'] < -4e-5]\n",
    "# df = df[-0.00011 < df['t']][df['t'] < -4e-5]\n",
    "df = df[-1.75e-4 < df['t']][df['t'] < -0.00011]\n",
    "\n",
    "# df.to_picl('3.pkl')\n",
    "# df = pd.read_pickle('3.pkl')\n",
    "\n",
    "\n",
    "plt.figure()\n",
    "plt.plot(df['t'], df['vd'])\n",
    "plt.figure()\n",
    "plt.plot(-df['I'], -df['vd'])"
   ]
  },
  {
   "cell_type": "code",
   "execution_count": null,
   "metadata": {},
   "outputs": [],
   "source": [
    "plt.plot(-df['I'], -df['vd'])\n",
    "plt.xlabel('I [mA]')\n",
    "plt.ylabel('vd [V]')\n",
    "plt.savefig('destination_path.eps', format='eps')"
   ]
  },
  {
   "cell_type": "code",
   "execution_count": null,
   "metadata": {},
   "outputs": [],
   "source": [
    "from scipy.signal import savgol_filter\n",
    "y = -savgol_filter(df['vd'], 51, 3) # window size 51, polynomial order 3\n",
    "x = -savgol_filter(df['I'], 51, 3)\n",
    "plt.plot(x, y)\n",
    "df2 = pd.DataFrame({'x': x, 'y': y})\n",
    "df2.to_csv('filtered.csv', index=False)"
   ]
  },
  {
   "cell_type": "code",
   "execution_count": null,
   "metadata": {},
   "outputs": [],
   "source": [
    "import numpy as np\n",
    "import matplotlib.pyplot as plt\n",
    "from scipy.optimize import curve_fit\n",
    "\n",
    "# define the exponential function to fit\n",
    "def func(x, a, b, c):\n",
    "    return a * np.exp(-b * x) + c\n",
    "\n",
    "\n",
    "# fit the data to the function\n",
    "popt, pcov = curve_fit(func, x, y)\n",
    "\n",
    "# plot the data and fitted curve\n",
    "plt.plot(x, y, 'o', label='data')\n",
    "plt.plot(x, func(y, *popt), '-', label='fit')\n",
    "plt.legend()\n",
    "plt.show()\n"
   ]
  },
  {
   "cell_type": "code",
   "execution_count": null,
   "metadata": {},
   "outputs": [],
   "source": [
    "df.hvplot.scatter(x='t', y='vd', width=800, height=400)"
   ]
  },
  {
   "cell_type": "code",
   "execution_count": null,
   "metadata": {},
   "outputs": [],
   "source": [
    "df.hvplot.scatter(x='t', y=['vd', 'vt'], width=800, height=400)"
   ]
  },
  {
   "cell_type": "code",
   "execution_count": null,
   "metadata": {},
   "outputs": [],
   "source": [
    "df = df[-1.8e-4 < df['t']][df['t'] < -4e-5]\n",
    "df.to_pickle('3.pkl')"
   ]
  },
  {
   "cell_type": "code",
   "execution_count": null,
   "metadata": {},
   "outputs": [],
   "source": [
    "df.hvplot.scatter(x='t', y=['vd', 'vt'], width=800, height=400)\n",
    "df['I'] = df['vt'] - df['vd'] / R "
   ]
  },
  {
   "cell_type": "code",
   "execution_count": null,
   "metadata": {},
   "outputs": [],
   "source": [
    "df.hvplot.scatter(x='I', y='vd', width=800, height=400)"
   ]
  },
  {
   "cell_type": "markdown",
   "metadata": {},
   "source": [
    "## part 2 "
   ]
  },
  {
   "cell_type": "code",
   "execution_count": null,
   "metadata": {},
   "outputs": [],
   "source": [
    "L = 102e-3 # henrry\n",
    "C = 56.6e-9# farad"
   ]
  },
  {
   "cell_type": "code",
   "execution_count": null,
   "metadata": {},
   "outputs": [],
   "source": [
    "resonance = 1 / np.sqrt(L * C) # 13kHz\n",
    "measurment_freq = 27.1e3 # 27.1kHz"
   ]
  }
 ],
 "metadata": {
  "kernelspec": {
   "display_name": "Python 3",
   "language": "python",
   "name": "python3"
  },
  "language_info": {
   "codemirror_mode": {
    "name": "ipython",
    "version": 3
   },
   "file_extension": ".py",
   "mimetype": "text/x-python",
   "name": "python",
   "nbconvert_exporter": "python",
   "pygments_lexer": "ipython3",
   "version": "3.11.2"
  },
  "orig_nbformat": 4
 },
 "nbformat": 4,
 "nbformat_minor": 2
}
