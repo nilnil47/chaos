{
 "cells": [
  {
   "cell_type": "code",
   "execution_count": null,
   "metadata": {},
   "outputs": [],
   "source": [
    "import pandas as pd\n",
    "import numpy as np\n",
    "import matplotlib.pyplot as plt\n",
    "import hvplot.pandas\n",
    "import plotly.express as px\n",
    "import scipy.signal as signal\n",
    "import plotly.graph_objs as go\n",
    "import plotly.figure_factory as ff\n",
    "from plotly.offline import plot, iplot, init_notebook_mode\n",
    "from plotly.subplots import make_subplots\n"
   ]
  },
  {
   "cell_type": "code",
   "execution_count": null,
   "metadata": {},
   "outputs": [],
   "source": [
    "def load_csv(name):\n",
    "    return pd.read_csv(name, header=None, usecols=[3, 4, 10], names=['t', 'vd', 'vt'],float_precision='round_trip')\n",
    "\n",
    "R = 10"
   ]
  },
  {
   "cell_type": "code",
   "execution_count": null,
   "metadata": {},
   "outputs": [],
   "source": [
    "(-1.8e-4-4e-5)/2"
   ]
  },
  {
   "attachments": {},
   "cell_type": "markdown",
   "metadata": {},
   "source": [
    "## part 1"
   ]
  },
  {
   "cell_type": "code",
   "execution_count": null,
   "metadata": {},
   "outputs": [],
   "source": [
    "df = load_csv('3.csv')\n",
    "df['I'] = (df['vt'] - df['vd']) / R \n",
    "\n",
    "# df = df[-1.8e-4 < df['t']][df['t'] < -4e-5]\n",
    "# df = df[-0.00011 < df['t']][df['t'] < -4e-5]\n",
    "df = df[-1.75e-4 < df['t']][df['t'] < -0.00011]\n",
    "\n",
    "# df.to_picl('3.pkl')\n",
    "# df = pd.read_pickle('3.pkl')\n",
    "\n",
    "\n",
    "plt.figure()\n",
    "plt.plot(df['t'], df['vd'])\n",
    "plt.figure()\n",
    "plt.plot(-df['I'], -df['vd'])"
   ]
  },
  {
   "cell_type": "code",
   "execution_count": null,
   "metadata": {},
   "outputs": [],
   "source": [
    "plt.plot(-df['I'], -df['vd'])\n",
    "plt.xlabel('I [mA]')\n",
    "plt.ylabel('vd [V]')\n",
    "plt.savefig('destination_path.eps', format='eps')"
   ]
  },
  {
   "cell_type": "code",
   "execution_count": null,
   "metadata": {},
   "outputs": [],
   "source": [
    "from scipy.signal import savgol_filter\n",
    "y = -savgol_filter(df['vd'], 51, 3) # window size 51, polynomial order 3\n",
    "x = -savgol_filter(df['I'], 51, 3)\n",
    "plt.plot(x, y)\n",
    "df2 = pd.DataFrame({'x': x, 'y': y})\n",
    "df2.to_csv('filtered.csv', index=False)"
   ]
  },
  {
   "cell_type": "code",
   "execution_count": null,
   "metadata": {},
   "outputs": [],
   "source": [
    "import numpy as np\n",
    "import matplotlib.pyplot as plt\n",
    "from scipy.optimize import curve_fit\n",
    "\n",
    "# define the exponential function to fit\n",
    "def func(x, a, b, c):\n",
    "    return a * np.exp(-b * x) + c\n",
    "\n",
    "\n",
    "# fit the data to the function\n",
    "popt, pcov = curve_fit(func, x, y)\n",
    "\n",
    "# plot the data and fitted curve\n",
    "plt.plot(x, y, 'o', label='data')\n",
    "plt.plot(x, func(y, *popt), '-', label='fit')\n",
    "plt.legend()\n",
    "plt.show()\n"
   ]
  },
  {
   "cell_type": "code",
   "execution_count": null,
   "metadata": {},
   "outputs": [],
   "source": [
    "df.hvplot.scatter(x='t', y='vd', width=800, height=400)"
   ]
  },
  {
   "cell_type": "code",
   "execution_count": null,
   "metadata": {},
   "outputs": [],
   "source": [
    "df.hvplot.scatter(x='t', y=['vd', 'vt'], width=800, height=400)"
   ]
  },
  {
   "cell_type": "code",
   "execution_count": null,
   "metadata": {},
   "outputs": [],
   "source": [
    "df = df[-1.8e-4 < df['t']][df['t'] < -4e-5]\n",
    "df.to_pickle('3.pkl')"
   ]
  },
  {
   "cell_type": "code",
   "execution_count": null,
   "metadata": {},
   "outputs": [],
   "source": [
    "df.hvplot.scatter(x='t', y=['vd', 'vt'], width=800, height=400)\n",
    "df['I'] = df['vt'] - df['vd'] / R "
   ]
  },
  {
   "cell_type": "code",
   "execution_count": null,
   "metadata": {},
   "outputs": [],
   "source": [
    "df.hvplot.scatter(x='I', y='vd', width=800, height=400)"
   ]
  },
  {
   "cell_type": "markdown",
   "metadata": {},
   "source": [
    "## part 2 "
   ]
  },
  {
   "cell_type": "code",
   "execution_count": null,
   "metadata": {},
   "outputs": [],
   "source": [
    "L = 102e-3 # henrry\n",
    "C = 56.6e-9# farad"
   ]
  },
  {
   "cell_type": "code",
   "execution_count": null,
   "metadata": {},
   "outputs": [],
   "source": [
    "resonance = 1 / np.sqrt(L * C) # 13kHz\n",
    "zmeasurment_freq = 27.1e3 # 27.1kHz"
   ]
  },
  {
   "cell_type": "code",
   "execution_count": null,
   "metadata": {},
   "outputs": [],
   "source": [
    "df = load_csv('37.4.csv')"
   ]
  },
  {
   "cell_type": "code",
   "execution_count": null,
   "metadata": {},
   "outputs": [],
   "source": [
    "plt.plot(df['t'], df['vd'])"
   ]
  },
  {
   "cell_type": "code",
   "execution_count": null,
   "metadata": {},
   "outputs": [],
   "source": [
    "# df.set_index('t')\n",
    "n = int(4e5)\n",
    "sdf = df[n:n+5000]\n",
    "sdf.reset_index(drop=True, inplace=True)\n",
    "plt.plot(sdf['vd'])\n",
    "# px.scatter(sdf, x='t', y='vd')\n",
    "peaks = signal.find_peaks(-1*sdf['vd'], height=3.4,width = 10, rel_height=1)\n",
    "plt.plot(peaks[0], -1*peaks[1]['peak_heights'], '.')"
   ]
  },
  {
   "cell_type": "code",
   "execution_count": null,
   "metadata": {},
   "outputs": [],
   "source": [
    "sdf.reset_index(drop=True, inplace=True)\n",
    "sdf\n"
   ]
  },
  {
   "cell_type": "code",
   "execution_count": null,
   "metadata": {},
   "outputs": [],
   "source": [
    "peaks = signal.find_peaks(sdf['vd'], height=0.5, distance=1000)\n",
    "peaks"
   ]
  },
  {
   "cell_type": "code",
   "execution_count": null,
   "metadata": {},
   "outputs": [],
   "source": [
    "trace1 = go.Bar(\n",
    "    x=sdf['t'],\n",
    "    y=sdf['vd'],\n",
    "    # name='points',\n",
    "    # marker=dict(\n",
    "    #     color='rgb(255,163,192)'\n",
    "    #            )\n",
    ")\n",
    "trace2 = go.Scatter(\n",
    "    x=peaks[0],\n",
    "    y=peaks[1]['peak_heights'],\n",
    "    name='peaks',\n",
    "    # yaxis='y2',\n",
    "\n",
    ")\n",
    "\n",
    "fig = make_subplots(specs=[[{\"secondary_y\": True}]])\n",
    "fig.add_trace(trace1)\n",
    "# fig.add_trace(trace2,secondary_y=True)\n",
    "fig['layout'].update(height = 600, width = 800,xaxis=dict(\n",
    "      tickangle=-90\n",
    "    ))\n",
    "iplot(fig)\n"
   ]
  },
  {
   "cell_type": "code",
   "execution_count": null,
   "metadata": {},
   "outputs": [],
   "source": [
    "import plotly.graph_objects as go\n",
    "from plotly.subplots import make_subplots\n",
    "\n",
    "trace1 = go.Bar(\n",
    "    x=df[cat],\n",
    "    y=df[num],\n",
    "    name=num,\n",
    "    marker=dict(\n",
    "        color='rgb(34,163,192)'\n",
    "               )\n",
    ")\n",
    "trace2 = go.Scatter(\n",
    "    x=df[cat],\n",
    "    y=df['cumulative_perc'],\n",
    "    name='Cumulative Percentage',\n",
    "    yaxis='y2'\n",
    "\n",
    ")\n",
    "\n",
    "fig = make_subplots(specs=[[{\"secondary_y\": True}]])\n",
    "fig.add_trace(trace1)\n",
    "fig.add_trace(trace2,secondary_y=True)\n",
    "fig['layout'].update(height = 600, width = 800, title = title,xaxis=dict(\n",
    "      tickangle=-90\n",
    "    ))\n",
    "iplot(fig)\n"
   ]
  },
  {
   "cell_type": "code",
   "execution_count": null,
   "metadata": {},
   "outputs": [],
   "source": [
    "peaks[0]\n",
    "peaks[1]['peak_heights']"
   ]
  },
  {
   "cell_type": "code",
   "execution_count": null,
   "metadata": {},
   "outputs": [],
   "source": [
    "import altair as alt\n",
    "from altair.expr import datum\n",
    "\n",
    "base = alt.Chart(sdf).encode(\n",
    "    x='t',\n",
    "    y='vd',\n",
    "    color='symbol:N'\n",
    ").transform_filter(\n",
    "    datum.symbol == 'GOOG'\n",
    ")\n",
    "\n",
    "base.mark_line() + base.mark_point()\n"
   ]
  },
  {
   "cell_type": "code",
   "execution_count": null,
   "metadata": {},
   "outputs": [],
   "source": []
  }
 ],
 "metadata": {
  "kernelspec": {
   "display_name": "Python 3",
   "language": "python",
   "name": "python3"
  },
  "language_info": {
   "codemirror_mode": {
    "name": "ipython",
    "version": 3
   },
   "file_extension": ".py",
   "mimetype": "text/x-python",
   "name": "python",
   "nbconvert_exporter": "python",
   "pygments_lexer": "ipython3",
   "version": "3.11.2"
  },
  "orig_nbformat": 4
 },
 "nbformat": 4,
 "nbformat_minor": 2
}
